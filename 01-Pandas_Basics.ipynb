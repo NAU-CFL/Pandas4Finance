{
 "cells": [
  {
   "cell_type": "code",
   "execution_count": 1,
   "metadata": {
    "collapsed": true
   },
   "outputs": [],
   "source": [
    "import pandas as pd\n",
    "import numpy as np\n",
    "pd.set_option('display.notebook_repr_html', False)\n",
    "pd.set_option('display.max_columns', 8)\n",
    "pd.set_option('display.max_rows', 8)"
   ]
  },
  {
   "cell_type": "markdown",
   "metadata": {},
   "source": [
    "# Basics of Pandas\n",
    "\n",
    "The ```pandas``` package provides a comprehensive set of data structures for working with and manipulating data and performing various statistical and financial analyses. Two primary data structures we will use is ```Series``` and ```DataFrame```.\n",
    "\n",
    "## The Series\n",
    "The ```Series``` is the primary building block of pandas and represents a onedimensional labeled array based on the ```NumPy ndarray```.\n",
    "\n",
    "A ```Series``` have index labeling which makes it more usable than ```NumPy ndarray```.\n",
    "\n",
    "A ```Series``` can hold zero or more instances of any single data type.\n",
    "\n",
    "However a Series can only associate single value with any given index label, so it has limitations, which ```DataFrame``` is solving it.\n",
    "\n",
    "## The DataFrame\n",
    "A ```DataFrame``` can be thought of as a dictionary-like container of one or more ```Series``` objects, as a spreadsheet, or probably the best description for those new to pandas is to compare a ```DataFrame``` to a relational database table.\n",
    "\n",
    "A ```DataFrame``` and also by automatically aligning values in each column along the index labels of the ```DataFrame```.\n",
    "\n",
    "A ```DataFrame``` also introduces the concept of an axis, which you will often see in the pandas documentation and in many of its methods. A DataFrame has two axes, horizontal and vertical."
   ]
  },
  {
   "cell_type": "code",
   "execution_count": 2,
   "metadata": {
    "collapsed": false
   },
   "outputs": [
    {
     "data": {
      "text/plain": [
       "0    E\n",
       "1    n\n",
       "2    e\n",
       "3    s\n",
       "    ..\n",
       "6    e\n",
       "7    m\n",
       "8    a\n",
       "9    l\n",
       "dtype: object"
      ]
     },
     "execution_count": 2,
     "metadata": {},
     "output_type": "execute_result"
    }
   ],
   "source": [
    "# Creating Series using Lists\n",
    "lst = list(\"Enes Kemal\")\n",
    "s = pd.Series(lst)\n",
    "s"
   ]
  },
  {
   "cell_type": "code",
   "execution_count": 3,
   "metadata": {
    "collapsed": false
   },
   "outputs": [
    {
     "data": {
      "text/plain": [
       "a    1\n",
       "b    2\n",
       "c    3\n",
       "d    4\n",
       "e    5\n",
       "dtype: int64"
      ]
     },
     "execution_count": 3,
     "metadata": {},
     "output_type": "execute_result"
    }
   ],
   "source": [
    "# Creating Series using Dictionary\n",
    "dic = {'a':1, 'b':2, 'c':3, 'd':4, 'e':5} \n",
    "s = pd.Series(dic)\n",
    "s"
   ]
  },
  {
   "cell_type": "code",
   "execution_count": 4,
   "metadata": {
    "collapsed": false
   },
   "outputs": [
    {
     "data": {
      "text/plain": [
       "0     0.580846\n",
       "1     0.200344\n",
       "2     0.771276\n",
       "3     0.453910\n",
       "        ...   \n",
       "96   -0.194114\n",
       "97    0.102594\n",
       "98   -0.781175\n",
       "99    1.840601\n",
       "dtype: float64"
      ]
     },
     "execution_count": 4,
     "metadata": {},
     "output_type": "execute_result"
    }
   ],
   "source": [
    "# Creating Series using NumPy random \n",
    "s = pd.Series(np.random.randn(100))\n",
    "s"
   ]
  },
  {
   "cell_type": "code",
   "execution_count": 5,
   "metadata": {
    "collapsed": false
   },
   "outputs": [
    {
     "data": {
      "text/plain": [
       "0.77127636689613832"
      ]
     },
     "execution_count": 5,
     "metadata": {},
     "output_type": "execute_result"
    }
   ],
   "source": [
    "# Access elements using [] operator:\n",
    "s[2]"
   ]
  },
  {
   "cell_type": "code",
   "execution_count": 7,
   "metadata": {
    "collapsed": false
   },
   "outputs": [
    {
     "data": {
      "text/plain": [
       "2     0.771276\n",
       "5    -1.508865\n",
       "20    1.054933\n",
       "dtype: float64"
      ]
     },
     "execution_count": 7,
     "metadata": {},
     "output_type": "execute_result"
    }
   ],
   "source": [
    "s[[2, 5, 20]] # Access specific locations with list parsed..."
   ]
  },
  {
   "cell_type": "code",
   "execution_count": 8,
   "metadata": {
    "collapsed": false
   },
   "outputs": [
    {
     "data": {
      "text/plain": [
       "3    0.453910\n",
       "4    0.254239\n",
       "5   -1.508865\n",
       "6    0.235773\n",
       "7    0.418655\n",
       "dtype: float64"
      ]
     },
     "execution_count": 8,
     "metadata": {},
     "output_type": "execute_result"
    }
   ],
   "source": [
    "# Slicing is possible like we are doing with lists\n",
    "s[3:8]"
   ]
  },
  {
   "cell_type": "code",
   "execution_count": 10,
   "metadata": {
    "collapsed": false
   },
   "outputs": [
    {
     "data": {
      "text/plain": [
       "0    0.580846\n",
       "1    0.200344\n",
       "2    0.771276\n",
       "3    0.453910\n",
       "4    0.254239\n",
       "dtype: float64"
      ]
     },
     "execution_count": 10,
     "metadata": {},
     "output_type": "execute_result"
    }
   ],
   "source": [
    "# Examining the series data with .head(), .tail()\n",
    "s.head()"
   ]
  },
  {
   "cell_type": "code",
   "execution_count": 11,
   "metadata": {
    "collapsed": false
   },
   "outputs": [
    {
     "data": {
      "text/plain": [
       "95   -0.399591\n",
       "96   -0.194114\n",
       "97    0.102594\n",
       "98   -0.781175\n",
       "99    1.840601\n",
       "dtype: float64"
      ]
     },
     "execution_count": 11,
     "metadata": {},
     "output_type": "execute_result"
    }
   ],
   "source": [
    "s.tail()"
   ]
  },
  {
   "cell_type": "code",
   "execution_count": 17,
   "metadata": {
    "collapsed": false
   },
   "outputs": [
    {
     "name": "stdout",
     "output_type": "stream",
     "text": [
      "[0, 1, 2, 3, 4, 5, 6, 7, 8, 9, 10, 11, 12, 13, 14, 15, 16, 17, 18, 19, 20, 21, 22, 23, 24, 25, 26, 27, 28, 29, 30, 31, 32, 33, 34, 35, 36, 37, 38, 39, 40, 41, 42, 43, 44, 45, 46, 47, 48, 49, 50, 51, 52, 53, 54, 55, 56, 57, 58, 59, 60, 61, 62, 63, 64, 65, 66, 67, 68, 69, 70, 71, 72, 73, 74, 75, 76, 77, 78, 79, 80, 81, 82, 83, 84, 85, 86, 87, 88, 89, 90, 91, 92, 93, 94, 95, 96, 97, 98, 99]\n"
     ]
    }
   ],
   "source": [
    "# Index of Series can be retrieved using .index\n",
    "print(list(s.index))"
   ]
  },
  {
   "cell_type": "code",
   "execution_count": 18,
   "metadata": {
    "collapsed": false,
    "scrolled": true
   },
   "outputs": [
    {
     "data": {
      "text/plain": [
       "array([  5.80845904e-01,   2.00343780e-01,   7.71276367e-01,\n",
       "         4.53910024e-01,   2.54238927e-01,  -1.50886468e+00,\n",
       "         2.35772835e-01,   4.18654649e-01,  -4.59828116e-02,\n",
       "         5.84937530e-01,   1.05807683e+00,  -9.33295106e-01,\n",
       "         2.78707566e-02,  -1.91722767e-01,   4.24611236e-02,\n",
       "         2.86256314e-01,  -1.12825610e+00,   1.56128270e+00,\n",
       "        -5.68958388e-01,   2.22818835e-01,   1.05493322e+00,\n",
       "        -9.21252812e-01,   1.44401169e+00,  -1.08115787e+00,\n",
       "        -4.20986060e-01,   1.25430911e+00,  -5.74595601e-01,\n",
       "        -3.18762789e-01,  -1.02393628e+00,  -1.37117281e+00,\n",
       "         9.93082282e-01,  -6.93460046e-01,  -1.80251671e-01,\n",
       "         1.69393186e+00,  -2.40737287e-02,  -1.08514455e+00,\n",
       "         1.21562818e-01,  -9.04255838e-01,   5.84426887e-01,\n",
       "        -5.32303386e-01,   7.23991120e-01,   1.35164233e-01,\n",
       "         6.38176837e-02,  -8.70822921e-01,  -2.81311290e+00,\n",
       "         5.14716903e-01,  -3.13978422e-01,   7.83715621e-01,\n",
       "         8.61068717e-01,  -2.87883969e-01,  -9.45050861e-01,\n",
       "        -1.32827611e+00,   1.97373600e+00,   1.96334327e-01,\n",
       "        -6.66596184e-01,   1.07708152e+00,  -4.10115367e-01,\n",
       "        -2.05805391e+00,  -1.16299318e+00,  -3.30724846e-01,\n",
       "        -6.23434255e-01,   3.94843104e-01,   7.46318833e-01,\n",
       "        -7.31478559e-01,  -9.01257373e-02,   3.29029401e-01,\n",
       "        -3.66229289e-01,   1.93331907e+00,   1.31354283e+00,\n",
       "        -6.12014511e-02,   2.66377809e-01,  -1.22823525e+00,\n",
       "        -1.55001493e-01,   2.40797765e-01,  -8.82598136e-03,\n",
       "         1.51840883e+00,  -3.04312379e-03,  -1.61840954e+00,\n",
       "         3.30771070e-01,   1.48790340e+00,   2.56408633e-01,\n",
       "        -1.06062138e+00,   7.37109749e-01,  -1.11646835e+00,\n",
       "         1.67329095e+00,  -1.26266693e-01,  -1.06232912e+00,\n",
       "         9.48633406e-02,   1.11850771e+00,  -1.06298649e-01,\n",
       "        -2.95634307e-01,  -8.13737581e-02,   1.68235682e-03,\n",
       "        -1.11745209e+00,   5.99025693e-01,  -3.99591102e-01,\n",
       "        -1.94114091e-01,   1.02593645e-01,  -7.81175305e-01,\n",
       "         1.84060120e+00])"
      ]
     },
     "execution_count": 18,
     "metadata": {},
     "output_type": "execute_result"
    }
   ],
   "source": [
    "# Also retrieving values are with .values \n",
    "s.values"
   ]
  },
  {
   "cell_type": "code",
   "execution_count": 20,
   "metadata": {
    "collapsed": false
   },
   "outputs": [
    {
     "data": {
      "text/plain": [
       "a    1\n",
       "b    2\n",
       "c    3\n",
       "d    4\n",
       "dtype: int64"
      ]
     },
     "execution_count": 20,
     "metadata": {},
     "output_type": "execute_result"
    }
   ],
   "source": [
    "# Creating series with index and values are passed\n",
    "s2 = pd.Series([1, 2, 3, 4], index=['a', 'b', 'c', 'd'])\n",
    "s2"
   ]
  },
  {
   "cell_type": "code",
   "execution_count": 22,
   "metadata": {
    "collapsed": false
   },
   "outputs": [
    {
     "data": {
      "text/plain": [
       "100"
      ]
     },
     "execution_count": 22,
     "metadata": {},
     "output_type": "execute_result"
    }
   ],
   "source": [
    "# Returning the length of Series\n",
    "len(s)"
   ]
  },
  {
   "cell_type": "code",
   "execution_count": 23,
   "metadata": {
    "collapsed": false
   },
   "outputs": [
    {
     "data": {
      "text/plain": [
       "(100,)"
      ]
     },
     "execution_count": 23,
     "metadata": {},
     "output_type": "execute_result"
    }
   ],
   "source": [
    "# Return dimensionality of Series\n",
    "s.shape"
   ]
  },
  {
   "cell_type": "code",
   "execution_count": 26,
   "metadata": {
    "collapsed": false
   },
   "outputs": [
    {
     "name": "stdout",
     "output_type": "stream",
     "text": [
      "10\n",
      "9\n"
     ]
    }
   ],
   "source": [
    "# .count is also returning the count of elements in Series, but NaN is not counted\n",
    "s = pd.Series([10, 0, 1, 1, 2, 3, 4, 5, 6, np.nan])\n",
    "print(len(s))\n",
    "print(s.count())"
   ]
  },
  {
   "cell_type": "code",
   "execution_count": 27,
   "metadata": {
    "collapsed": false
   },
   "outputs": [
    {
     "data": {
      "text/plain": [
       "array([ 10.,   0.,   1.,   2.,   3.,   4.,   5.,   6.,  nan])"
      ]
     },
     "execution_count": 27,
     "metadata": {},
     "output_type": "execute_result"
    }
   ],
   "source": [
    "# Returning all the unique values using .unique()\n",
    "s.unique()"
   ]
  },
  {
   "cell_type": "code",
   "execution_count": 28,
   "metadata": {
    "collapsed": false
   },
   "outputs": [
    {
     "data": {
      "text/plain": [
       "1.0     2\n",
       "10.0    1\n",
       "6.0     1\n",
       "5.0     1\n",
       "4.0     1\n",
       "3.0     1\n",
       "2.0     1\n",
       "0.0     1\n",
       "dtype: int64"
      ]
     },
     "execution_count": 28,
     "metadata": {},
     "output_type": "execute_result"
    }
   ],
   "source": [
    "# Count of each value:\n",
    "s.value_counts()"
   ]
  },
  {
   "cell_type": "markdown",
   "metadata": {},
   "source": [
    "### Creating a DataFrame"
   ]
  },
  {
   "cell_type": "code",
   "execution_count": 29,
   "metadata": {
    "collapsed": false
   },
   "outputs": [
    {
     "data": {
      "text/plain": [
       "    0   1   2   3   4\n",
       "0  10  11  12  13  14\n",
       "1  15  16  17  18  19"
      ]
     },
     "execution_count": 29,
     "metadata": {},
     "output_type": "execute_result"
    }
   ],
   "source": [
    "# Create DF by passing series\n",
    "df1 = pd.DataFrame([pd.Series(np.arange(10, 15)),\n",
    "                    pd.Series(np.arange(15, 20))])\n",
    "df1"
   ]
  },
  {
   "cell_type": "code",
   "execution_count": 31,
   "metadata": {
    "collapsed": false
   },
   "outputs": [
    {
     "data": {
      "text/plain": [
       "(2, 5)"
      ]
     },
     "execution_count": 31,
     "metadata": {},
     "output_type": "execute_result"
    }
   ],
   "source": [
    "df1.shape"
   ]
  },
  {
   "cell_type": "code",
   "execution_count": 32,
   "metadata": {
    "collapsed": false
   },
   "outputs": [
    {
     "data": {
      "text/plain": [
       "    a   b\n",
       "0  10  11\n",
       "1  20  21"
      ]
     },
     "execution_count": 32,
     "metadata": {},
     "output_type": "execute_result"
    }
   ],
   "source": [
    "# Another way to create DF is by using numpy array\n",
    "df = pd.DataFrame(np.array([[10, 11], [20, 21]]),\n",
    "                  columns=['a', 'b'])\n",
    "\n",
    "df"
   ]
  },
  {
   "cell_type": "code",
   "execution_count": 33,
   "metadata": {
    "collapsed": false
   },
   "outputs": [
    {
     "data": {
      "text/plain": [
       "Index(['a', 'b'], dtype='object')"
      ]
     },
     "execution_count": 33,
     "metadata": {},
     "output_type": "execute_result"
    }
   ],
   "source": [
    "df.columns"
   ]
  },
  {
   "cell_type": "code",
   "execution_count": 35,
   "metadata": {
    "collapsed": false
   },
   "outputs": [
    {
     "data": {
      "text/plain": [
       "   c1  c2\n",
       "0  10  11\n",
       "1  20  21"
      ]
     },
     "execution_count": 35,
     "metadata": {},
     "output_type": "execute_result"
    }
   ],
   "source": [
    "# We can rename the columns after data frame created \n",
    "df.columns = ['c1', 'c2']\n",
    "df"
   ]
  },
  {
   "cell_type": "code",
   "execution_count": 36,
   "metadata": {
    "collapsed": false
   },
   "outputs": [
    {
     "data": {
      "text/plain": [
       "    c1  c2\n",
       "r1   0   1\n",
       "r2   2   3"
      ]
     },
     "execution_count": 36,
     "metadata": {},
     "output_type": "execute_result"
    }
   ],
   "source": [
    "# We can also add index while creating\n",
    "df = pd.DataFrame(np.array([[0, 1], [2, 3]]), \n",
    "                  columns=['c1', 'c2'],\n",
    "                  index=['r1', 'r2'])\n",
    "df"
   ]
  },
  {
   "cell_type": "code",
   "execution_count": 37,
   "metadata": {
    "collapsed": false
   },
   "outputs": [
    {
     "data": {
      "text/plain": [
       "Index(['r1', 'r2'], dtype='object')"
      ]
     },
     "execution_count": 37,
     "metadata": {},
     "output_type": "execute_result"
    }
   ],
   "source": [
    "# We'll show the index\n",
    "df.index"
   ]
  },
  {
   "cell_type": "code",
   "execution_count": 38,
   "metadata": {
    "collapsed": false
   },
   "outputs": [
    {
     "data": {
      "text/plain": [
       "array([[0, 1],\n",
       "       [2, 3]])"
      ]
     },
     "execution_count": 38,
     "metadata": {},
     "output_type": "execute_result"
    }
   ],
   "source": [
    "df.values"
   ]
  },
  {
   "cell_type": "code",
   "execution_count": 39,
   "metadata": {
    "collapsed": false
   },
   "outputs": [
    {
     "data": {
      "text/plain": [
       "   c1  c2    c3\n",
       "0   1   6   NaN\n",
       "1   2   7  12.0\n",
       "2   3   8  13.0\n",
       "3   4   9   NaN\n",
       "4   5  10   NaN"
      ]
     },
     "execution_count": 39,
     "metadata": {},
     "output_type": "execute_result"
    }
   ],
   "source": [
    "# Pandas we'll fill the gaps with NaN\n",
    "s1 = pd.Series(np.arange(1, 6, 1))\n",
    "s2 = pd.Series(np.arange(6, 11, 1))\n",
    "s3 = pd.Series(np.arange(12, 14), index=[1, 2])\n",
    "pd.DataFrame({'c1': s1, 'c2': s2, 'c3': s3})"
   ]
  },
  {
   "cell_type": "code",
   "execution_count": null,
   "metadata": {
    "collapsed": true
   },
   "outputs": [],
   "source": [
    " "
   ]
  }
 ],
 "metadata": {
  "anaconda-cloud": {},
  "kernelspec": {
   "display_name": "Python [default]",
   "language": "python",
   "name": "python3"
  },
  "language_info": {
   "codemirror_mode": {
    "name": "ipython",
    "version": 3
   },
   "file_extension": ".py",
   "mimetype": "text/x-python",
   "name": "python",
   "nbconvert_exporter": "python",
   "pygments_lexer": "ipython3",
   "version": "3.5.2"
  }
 },
 "nbformat": 4,
 "nbformat_minor": 1
}
